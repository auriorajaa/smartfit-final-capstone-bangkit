{
  "nbformat": 4,
  "nbformat_minor": 0,
  "metadata": {
    "colab": {
      "provenance": []
    },
    "kernelspec": {
      "name": "python3",
      "display_name": "Python 3"
    },
    "language_info": {
      "name": "python"
    }
  },
  "cells": [
    {
      "cell_type": "markdown",
      "source": [
        "**PERSONAL COLOR PALETTE DATA CLEANING**"
      ],
      "metadata": {
        "id": "Qrv1wAxQd5xa"
      }
    },
    {
      "cell_type": "markdown",
      "source": [
        "import packages"
      ],
      "metadata": {
        "id": "VqCiET1GeGAK"
      }
    },
    {
      "cell_type": "code",
      "source": [
        "import os\n",
        "import pandas as pd\n",
        "import numpy as np\n",
        "import matplotlib.pyplot as plt\n",
        "import seaborn as sns\n",
        "from sklearn.preprocessing import LabelEncoder\n",
        "from PIL import Image\n",
        "from google.colab import drive"
      ],
      "metadata": {
        "id": "NrnEAMg9eKBk"
      },
      "execution_count": 11,
      "outputs": []
    },
    {
      "cell_type": "code",
      "source": [
        "# Mounting Google Drive in Colab\n",
        "drive.mount('/content/drive')"
      ],
      "metadata": {
        "colab": {
          "base_uri": "https://localhost:8080/"
        },
        "id": "8KDEyfDaeUq1",
        "outputId": "8a02a909-5001-4aac-b073-fc5c0513676a"
      },
      "execution_count": 12,
      "outputs": [
        {
          "output_type": "stream",
          "name": "stdout",
          "text": [
            "Drive already mounted at /content/drive; to attempt to forcibly remount, call drive.mount(\"/content/drive\", force_remount=True).\n"
          ]
        }
      ]
    },
    {
      "cell_type": "markdown",
      "source": [
        "cleaning duplicated data"
      ],
      "metadata": {
        "id": "1MsAMfkreiE0"
      }
    },
    {
      "cell_type": "code",
      "source": [
        "# Memuat data dari file Excel (hanya 1 sheet)\n",
        "file_path = '/content/drive/MyDrive/personal color palette/seasonal_personal_color.xlsx'\n",
        "df_seasonal_colors = pd.read_excel(file_path)\n",
        "\n",
        "# Menampilkan data sebelum penghapusan duplikat\n",
        "print(\"Data sebelum menghapus duplikat:\")\n",
        "print(df_seasonal_colors.head())\n",
        "\n",
        "# Menghapus duplikat berdasarkan semua kolom\n",
        "df_seasonal_colors_cleaned = df_seasonal_colors.drop_duplicates()\n",
        "\n",
        "# Menampilkan data setelah penghapusan duplikat\n",
        "print(\"\\nData setelah menghapus duplikat:\")\n",
        "print(df_seasonal_colors_cleaned.head())\n",
        "\n",
        "# Menyimpan data yang sudah dibersihkan ke file baru\n",
        "output_path = '/content/drive/MyDrive/personal color palette/seasonal_personal_color_cleaned.xlsx'\n",
        "\n",
        "# Membuat direktori jika belum ada\n",
        "os.makedirs(os.path.dirname(output_path), exist_ok=True)\n",
        "\n",
        "# Menyimpan data yang sudah dibersihkan ke file Excel\n",
        "df_seasonal_colors_cleaned=df_seasonal_colors_cleaned.to_excel(output_path, index=False)\n",
        "\n",
        "print(f\"\\nData yang telah dibersihkan disimpan di {output_path}\")\n"
      ],
      "metadata": {
        "colab": {
          "base_uri": "https://localhost:8080/"
        },
        "id": "PnPW-Rvyemsx",
        "outputId": "1dc8999e-c267-4f9a-ab8c-1ed35bed4d3f"
      },
      "execution_count": 15,
      "outputs": [
        {
          "output_type": "stream",
          "name": "stdout",
          "text": [
            "Data sebelum menghapus duplikat:\n",
            "   season   colour_name            rgb hex_code\n",
            "0  spring        Oyster  225, 223, 210  #E1DFD2\n",
            "1  spring   Buttercream  240, 224, 207  #F0E0CF\n",
            "2  spring         Ivory  255, 255, 240  #FFFFF0\n",
            "3  spring  Lemon Sorbet  255, 247, 199  #FFF7C7\n",
            "4  spring      Primrose  237, 234, 153  #EDEA99\n",
            "\n",
            "Data setelah menghapus duplikat:\n",
            "   season   colour_name            rgb hex_code\n",
            "0  spring        Oyster  225, 223, 210  #E1DFD2\n",
            "1  spring   Buttercream  240, 224, 207  #F0E0CF\n",
            "2  spring         Ivory  255, 255, 240  #FFFFF0\n",
            "3  spring  Lemon Sorbet  255, 247, 199  #FFF7C7\n",
            "4  spring      Primrose  237, 234, 153  #EDEA99\n",
            "\n",
            "Data yang telah dibersihkan disimpan di /content/drive/MyDrive/personal color palette/seasonal_personal_color_cleaned.xlsx\n"
          ]
        }
      ]
    },
    {
      "cell_type": "markdown",
      "source": [
        "sorting color category and converting hex code to .png"
      ],
      "metadata": {
        "id": "UP3sBij7BDYd"
      }
    },
    {
      "cell_type": "code",
      "source": [
        "# Path ke file Excel\n",
        "file_path = '/content/drive/MyDrive/personal color palette/seasonal_personal_color_cleaned.xlsx'\n",
        "df = pd.read_excel(file_path)\n",
        "\n",
        "# Base directory untuk menyimpan folder\n",
        "base_dir = '/content/drive/MyDrive/personal color palette'\n",
        "os.makedirs(base_dir, exist_ok=True)\n",
        "\n",
        "# Ukuran gambar (misal 100x100 piksel)\n",
        "image_size = (100, 100)\n",
        "\n",
        "# Iterasi untuk setiap musim\n",
        "for season in df['season'].unique():\n",
        "    # Filter data untuk musim tertentu\n",
        "    season_data = df[df['season'] == season][['colour_name', 'hex_code']]\n",
        "\n",
        "    # Buat folder untuk musim tersebut\n",
        "    season_folder = os.path.join(base_dir, season)\n",
        "    os.makedirs(season_folder, exist_ok=True)\n",
        "\n",
        "    # Simpan data ke file Excel dalam folder musim\n",
        "    file_path = os.path.join(season_folder, f\"{season}_colors.xlsx\")\n",
        "    season_data.to_excel(file_path, index=False)\n",
        "\n",
        "    # Buat dan simpan gambar dari hex_code\n",
        "    for _, row in season_data.iterrows():\n",
        "        colour_name = row['colour_name']\n",
        "        hex_code = row['hex_code']\n",
        "\n",
        "        # Buat gambar dengan warna hex_code\n",
        "        img = Image.new('RGB', image_size, hex_code)\n",
        "\n",
        "        # Path untuk menyimpan gambar\n",
        "        image_path = os.path.join(season_folder, f\"{colour_name}_{hex_code[1:]}.png\")\n",
        "        img.save(image_path)\n",
        "\n",
        "base_dir"
      ],
      "metadata": {
        "colab": {
          "base_uri": "https://localhost:8080/",
          "height": 36
        },
        "id": "c9ngIvBhRH-g",
        "outputId": "169f8f72-60c2-4cff-89ea-b98cd3de8eef"
      },
      "execution_count": 23,
      "outputs": [
        {
          "output_type": "execute_result",
          "data": {
            "text/plain": [
              "'/content/drive/MyDrive/personal color palette'"
            ],
            "application/vnd.google.colaboratory.intrinsic+json": {
              "type": "string"
            }
          },
          "metadata": {},
          "execution_count": 23
        }
      ]
    }
  ]
}